{
 "cells": [
  {
   "cell_type": "code",
   "execution_count": 1,
   "metadata": {},
   "outputs": [
    {
     "name": "stdout",
     "output_type": "stream",
     "text": [
      "Defaulting to user installation because normal site-packages is not writeableNote: you may need to restart the kernel to use updated packages.\n",
      "\n"
     ]
    },
    {
     "name": "stderr",
     "output_type": "stream",
     "text": [
      "ERROR: Could not find a version that satisfies the requirement intertools (from versions: none)\n",
      "ERROR: No matching distribution found for intertools\n",
      "WARNING: You are using pip version 20.2.3; however, version 24.2 is available.\n",
      "You should consider upgrading via the 'c:\\Program Files\\Python39\\python.exe -m pip install --upgrade pip' command.\n"
     ]
    }
   ],
   "source": [
    "pip install cianparser"
   ]
  },
  {
   "cell_type": "code",
   "execution_count": null,
   "metadata": {},
   "outputs": [],
   "source": [
    "import cianparser\n",
    "import time\n",
    "import csv\n",
    "import random\n",
    "import os\n",
    "\n",
    "# Настройки парсинга\n",
    "locations = ['Москва и Московская область', 'Москва']\n",
    "rooms = range(1, 5)\n",
    "start_page = 1\n",
    "end_page = 88\n",
    "\n",
    "# Создание директории для сохранения файлов\n",
    "base_dir = 'parser/base'\n",
    "os.makedirs(base_dir, exist_ok=True)\n",
    "\n",
    "# Функция для сохранения данных в файл\n",
    "def save_data(data, filename):\n",
    "    with open(filename, 'w', newline='', encoding=\"utf-8\") as file:\n",
    "        writer = csv.DictWriter(file, fieldnames=data[0].keys())\n",
    "        writer.writeheader()\n",
    "        writer.writerows(data)\n",
    "\n",
    "# Парсинг данных\n",
    "for city in locations:\n",
    "    for room_count in rooms:\n",
    "        for page in range(start_page, end_page + 1):\n",
    "            parser = cianparser.CianParser(location=city)\n",
    "            data = parser.get_flats(\n",
    "                deal_type=\"sale\", rooms=room_count,\n",
    "                with_saving_csv=False,\n",
    "                additional_settings={\"start_page\":page, \"end_page\":page}\n",
    "            )\n",
    "\n",
    "            if data:\n",
    "                filename = f'{base_dir}/base_{city}_{room_count}_{page}.csv'\n",
    "                save_data(data, filename)\n",
    "                print(f\"Данные для {city}, {room_count} комнат, страница {page} сохранены в {filename}\")\n",
    "\n",
    "            time.sleep(random.randint(5, 10))\n"
   ]
  },
  {
   "cell_type": "markdown",
   "metadata": {},
   "source": [
    "УДАЛЕНИЕ ДУБЛИКАТОВ"
   ]
  },
  {
   "cell_type": "code",
   "execution_count": 7,
   "metadata": {},
   "outputs": [],
   "source": [
    "import pandas as pd\n",
    "\n",
    "path_base = \"base__3.csv\"\n",
    "\n",
    "data = pd.read_csv(path_base)\n",
    "data = data.drop_duplicates()\n",
    "data.to_csv(path_base, index=False)\n"
   ]
  }
 ],
 "metadata": {
  "kernelspec": {
   "display_name": "Python 3",
   "language": "python",
   "name": "python3"
  },
  "language_info": {
   "codemirror_mode": {
    "name": "ipython",
    "version": 3
   },
   "file_extension": ".py",
   "mimetype": "text/x-python",
   "name": "python",
   "nbconvert_exporter": "python",
   "pygments_lexer": "ipython3",
   "version": "3.9.0"
  }
 },
 "nbformat": 4,
 "nbformat_minor": 2
}
